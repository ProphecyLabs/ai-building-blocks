{
 "cells": [
  {
   "cell_type": "markdown",
   "id": "a5e53c2c",
   "metadata": {},
   "source": [
    "# AI BUILDING BLOCKS using OPENAI API  "
   ]
  },
  {
   "cell_type": "markdown",
   "id": "a2daf366",
   "metadata": {},
   "source": [
    "This notebook provides code for some of the key functionalities of the openai API:\n",
    "   >- Text generation<br>\n",
    "   >- Image generation<br>\n",
    "   >- Information extraction<br>\n",
    "        >-Named Entity Recognition (NER)<br>\n",
    "        >-Sentiment analysis<br>\n",
    "   >- Translation<br>\n",
    "   >- Embedding Computation<br>\n",
    "        >-Information retrieval using embeddings<br>\n",
    "        \n",
    " Note that a valid openai key is needed! "
   ]
  },
  {
   "cell_type": "code",
   "execution_count": 1,
   "id": "f7320e6f",
   "metadata": {
    "scrolled": true
   },
   "outputs": [
    {
     "name": "stderr",
     "output_type": "stream",
     "text": [
      "/Users/till/Documents/projects/ai-building-blocks/venv/lib/python3.9/site-packages/urllib3/__init__.py:34: NotOpenSSLWarning: urllib3 v2.0 only supports OpenSSL 1.1.1+, currently the 'ssl' module is compiled with 'LibreSSL 2.8.3'. See: https://github.com/urllib3/urllib3/issues/3020\n",
      "  warnings.warn(\n"
     ]
    }
   ],
   "source": [
    "#install packages \n",
    "#!pip install openai\n",
    "import json\n",
    "import numpy as np\n",
    "\n",
    "import openai"
   ]
  },
  {
   "cell_type": "markdown",
   "metadata": {},
   "source": [
    "authenticate to openai"
   ]
  },
  {
   "cell_type": "code",
   "execution_count": 2,
   "metadata": {},
   "outputs": [],
   "source": [
    "with open('../credentials.json', 'r') as f:\n",
    "    credentials = json.load(f)\n",
    "\n",
    "openai.api_key = credentials['openai']['key']"
   ]
  },
  {
   "cell_type": "markdown",
   "id": "31a5673a",
   "metadata": {},
   "source": [
    "### TEXT GENERATION "
   ]
  },
  {
   "cell_type": "markdown",
   "id": "26d00f44",
   "metadata": {},
   "source": [
    "Generate text based on user input. Usefull for conversations, question answering. \n",
    "https://platform.openai.com/docs/guides/text-generation/chat-completions-api"
   ]
  },
  {
   "cell_type": "code",
   "execution_count": 3,
   "id": "79f7a688",
   "metadata": {},
   "outputs": [
    {
     "data": {
      "text/plain": [
       "\"AI stands for Artificial Intelligence. It refers to the simulation of human intelligence in machines that are programmed to think like humans and mimic their actions. This term is commonly applied to any machine that exhibits traits associated with a human mind such as learning and problem-solving. AI can be categorized as either weak or strong, where weak AI may be designed to do a particular task, e.g., personal assistants like Amazon's Alexa, and strong AI systems carry out tasks that are considered to require human intelligence and consciousness.\""
      ]
     },
     "execution_count": 3,
     "metadata": {},
     "output_type": "execute_result"
    }
   ],
   "source": [
    "# Define the prompt for text generation\n",
    "system_content = \"You are a helpful assistant.\"\n",
    "user_input = \"what is AI?\"  # INPUT TO API\n",
    "\n",
    "messages = [\n",
    "    {'role': 'system', 'content': system_content},\n",
    "    {'role': 'user', 'content': user_input}\n",
    "]\n",
    "\n",
    "# Use the OpenAI API to generate text\n",
    "response = openai.ChatCompletion.create(\n",
    "            model=\"gpt-4\",\n",
    "            messages=messages,\n",
    "        )\n",
    "\n",
    "# Extract and print the generated text\n",
    "response['choices'][0]['message']['content']"
   ]
  },
  {
   "cell_type": "markdown",
   "id": "c3076210",
   "metadata": {},
   "source": [
    "###  IMAGE GENERATION"
   ]
  },
  {
   "cell_type": "code",
   "execution_count": 4,
   "id": "e26a323f",
   "metadata": {
    "scrolled": true
   },
   "outputs": [
    {
     "name": "stdout",
     "output_type": "stream",
     "text": [
      "https://oaidalleapiprodscus.blob.core.windows.net/private/org-yWkCzUtrNT0n2mFPzIGGf2el/user-kvf3JQAn7IPrian5AbPUr509/img-gm2mkKRSrXekNlZ8pMDGtNTj.png?st=2023-11-10T09%3A34%3A49Z&se=2023-11-10T11%3A34%3A49Z&sp=r&sv=2021-08-06&sr=b&rscd=inline&rsct=image/png&skoid=6aaadede-4fb3-4698-a8f6-684d7786b067&sktid=a48cca56-e6da-484e-a814-9c849652bcb3&skt=2023-11-10T00%3A13%3A48Z&ske=2023-11-11T00%3A13%3A48Z&sks=b&skv=2021-08-06&sig=R3uCWsgqf5jL48GILVhJeG/DObz99LIQoSEGpTQTdrs%3D\n"
     ]
    }
   ],
   "source": [
    "user_input = \"A dragon reading a book about water\"\n",
    "\n",
    "response = openai.Image.create(\n",
    "  model=\"dall-e-3\",\n",
    "  prompt= user_input,\n",
    "  size=\"1024x1024\",\n",
    "  quality=\"standard\",\n",
    "  n=1\n",
    ")\n",
    "\n",
    "image_url = response.data[0].url\n",
    "print(image_url)"
   ]
  },
  {
   "cell_type": "markdown",
   "id": "7426435f",
   "metadata": {},
   "source": [
    "### INFORMATION EXTRACTION"
   ]
  },
  {
   "cell_type": "markdown",
   "id": "2b45cb75",
   "metadata": {},
   "source": [
    "#### Named Entity Recognition (NER)."
   ]
  },
  {
   "cell_type": "code",
   "execution_count": 4,
   "id": "2e97dbb8",
   "metadata": {
    "scrolled": true
   },
   "outputs": [
    {
     "data": {
      "text/plain": [
       "'{\\n  \"organisations\": [\"Prophecy Labs\", \"Movify\"]\\n}'"
      ]
     },
     "execution_count": 4,
     "metadata": {},
     "output_type": "execute_result"
    }
   ],
   "source": [
    "user_input = \"Prophecy Labs is helping Movify with their hackaton on 11 and 12 november.\"  \n",
    "\n",
    "# Define the prompt for text generation\n",
    "system_content = '''You are a helpful assistant that returns all organizations mentioned in the provided text. \n",
    "                    Return as a JSON object, like \"organisations\": {\"X\", \"Y\"}'''\n",
    "\n",
    "messages = [\n",
    "    {'role': 'system', 'content': system_content},\n",
    "    {'role': 'user', 'content': user_input}\n",
    "]\n",
    "\n",
    "# Use the OpenAI API to generate text\n",
    "response = openai.ChatCompletion.create(\n",
    "            model=\"gpt-4\",\n",
    "            messages=messages,\n",
    "        )\n",
    "\n",
    "# Extract and print the generated text\n",
    "response['choices'][0]['message']['content']"
   ]
  },
  {
   "cell_type": "markdown",
   "id": "bdb65fd7",
   "metadata": {},
   "source": [
    "#### Sentiment Analysis"
   ]
  },
  {
   "cell_type": "code",
   "execution_count": 5,
   "id": "52def8f9",
   "metadata": {},
   "outputs": [
    {
     "data": {
      "text/plain": [
       "'{\"sentiment\": \"positive\"}'"
      ]
     },
     "execution_count": 5,
     "metadata": {},
     "output_type": "execute_result"
    }
   ],
   "source": [
    "user_input = \"Today will be interesting. Hopefully there is also time to drink a beer.\"  \n",
    "\n",
    "# Define the prompt for sentiment analysis\n",
    "system_content = '''You are a helpful assistant that returns the sentiment of the input text.\n",
    "                    It can be either positive or negative. Return as a JSON object like \"sentiment\": {\"positive\"}'''\n",
    "\n",
    "messages = [\n",
    "    {'role': 'system', 'content': system_content},\n",
    "    {'role': 'user', 'content': user_input}\n",
    "]\n",
    "\n",
    "# Use the OpenAI API to generate text\n",
    "response = openai.ChatCompletion.create(\n",
    "            model=\"gpt-4\",\n",
    "            messages=messages,\n",
    "        )\n",
    "\n",
    "# Extract and print the generated text\n",
    "response['choices'][0]['message']['content']"
   ]
  },
  {
   "cell_type": "markdown",
   "id": "9f4db8e5",
   "metadata": {},
   "source": [
    "### TRANSLATION "
   ]
  },
  {
   "cell_type": "code",
   "execution_count": 6,
   "id": "afd761bb",
   "metadata": {},
   "outputs": [
    {
     "data": {
      "text/plain": [
       "\"Aujourd'hui sera intéressant. Espérons qu'il y a aussi du temps pour boire une bière.\""
      ]
     },
     "execution_count": 6,
     "metadata": {},
     "output_type": "execute_result"
    }
   ],
   "source": [
    "user_input = \"Today will be interesting. Hopefully there is also time to drink a beer.\"  \n",
    "\n",
    "# Define the prompt for translation\n",
    "system_content = \"You are a helpful assistant that translates the input to french\"\n",
    "\n",
    "messages = [\n",
    "    {'role': 'system', 'content': system_content},\n",
    "    {'role': 'user', 'content': user_input}\n",
    "]\n",
    "\n",
    "# Use the OpenAI API to generate text\n",
    "response = openai.ChatCompletion.create(\n",
    "            model=\"gpt-4\",\n",
    "            messages=messages,\n",
    "        )\n",
    "\n",
    "# Extract and print the generated text\n",
    "response['choices'][0]['message']['content']"
   ]
  },
  {
   "cell_type": "markdown",
   "id": "c976b125",
   "metadata": {},
   "source": [
    "   ### EMBEDDING COMPUTATION "
   ]
  },
  {
   "cell_type": "code",
   "execution_count": 7,
   "id": "208213db",
   "metadata": {},
   "outputs": [
    {
     "name": "stdout",
     "output_type": "stream",
     "text": [
      "The dimension of the embedding is: 1536\n"
     ]
    }
   ],
   "source": [
    "user_input = [\"this\", \"can\", \"be\", \"a\", \"list\", \"of\", \"sentences\", \"as\", \"well\"]\n",
    "\n",
    "response = openai.Embedding.create(\n",
    "   model=\"text-embedding-ada-002\",\n",
    "   input=user_input\n",
    ")\n",
    "\n",
    "#first word [0] in list embedding:\n",
    "first_embedding = response['data'][0]['embedding']\n",
    "#print(first_embedding)\n",
    "\n",
    "#embedding = vector with length:\n",
    "print(f\"The dimension of the embedding is: {len(first_embedding)}\")"
   ]
  },
  {
   "cell_type": "markdown",
   "id": "423c3b2e",
   "metadata": {},
   "source": [
    "### Information retrieval using embeddings"
   ]
  },
  {
   "cell_type": "code",
   "execution_count": 8,
   "id": "3c844ec5",
   "metadata": {},
   "outputs": [
    {
     "name": "stdout",
     "output_type": "stream",
     "text": [
      "Target Embedding: Who works at Movify\n",
      "Closest Neighbors:\n",
      "Neighbor 1: There are a lot of designers working at Movify\n",
      "Neighbor 2: Prophecy Labs is joining the hackaton of Movify\n"
     ]
    }
   ],
   "source": [
    "# Example list of sentences\n",
    "text_information = [\"the weather is nice outside\",\n",
    "                    \"The president of the US is Joe Biden\",\n",
    "                    \"Prophecy Labs is joining the hackaton of Movify\",\n",
    "                    \"This is just some random info\",\n",
    "                    \"Cats are less loyal than dogs\",\n",
    "                    \"There are a lot of designers working at Movify\"]\n",
    "\n",
    "#information embeddings\n",
    "response = openai.Embedding.create(\n",
    "   model=\"text-embedding-ada-002\",\n",
    "   input=text_information\n",
    ")\n",
    "\n",
    "# Extract embeddings from the 'data' field\n",
    "embedding_list = [item['embedding'] for item in response['data']]\n",
    "\n",
    "# Convert embeddings to a numpy array\n",
    "embedding_matrix = np.array(embedding_list)\n",
    "\n",
    "# Reshape the matrix to have one row per sentence\n",
    "embedding_matrix = embedding_matrix.reshape(len(text_information), -1)\n",
    "\n",
    "# Print the dimensions of the matrix\n",
    "#print(\"Matrix Dimensions:\", embedding_matrix.shape)\n",
    "\n",
    "# Now, `embedding_matrix` is a 2D numpy array where each row is an embedding\n",
    "#print(embedding_matrix)\n",
    "\n",
    "#target sentence\n",
    "user_input  = \"Who works at Movify\"\n",
    "\n",
    "response = openai.Embedding.create(\n",
    "   model=\"text-embedding-ada-002\",\n",
    "   input=user_input\n",
    ")\n",
    "\n",
    "# Example target embedding\n",
    "target_embedding = response['data'][0]['embedding']\n",
    "\n",
    "# Number of neighbors to find\n",
    "k = 2\n",
    "\n",
    "# Calculate the Euclidean distances between the target embedding and all embeddings in the list\n",
    "distances = np.linalg.norm(embedding_matrix - target_embedding, axis=1)\n",
    "\n",
    "# Get the indices of the k closest neighbors\n",
    "k_nearest_indices = np.argsort(distances)[:k]\n",
    "\n",
    "# Retrieve the k closest embeddings\n",
    "retrieved_information = np.array(text_information)[k_nearest_indices.astype(int)]\n",
    "\n",
    "# Print the results\n",
    "print(\"Target Embedding:\", user_input)\n",
    "print(\"Closest Neighbors:\")\n",
    "for i in range(k):\n",
    "    print(f\"Neighbor {i + 1}: {retrieved_information[i]}\")"
   ]
  }
 ],
 "metadata": {
  "kernelspec": {
   "display_name": "Python 3 (ipykernel)",
   "language": "python",
   "name": "python3"
  },
  "language_info": {
   "codemirror_mode": {
    "name": "ipython",
    "version": 3
   },
   "file_extension": ".py",
   "mimetype": "text/x-python",
   "name": "python",
   "nbconvert_exporter": "python",
   "pygments_lexer": "ipython3",
   "version": "3.9.6"
  }
 },
 "nbformat": 4,
 "nbformat_minor": 5
}
